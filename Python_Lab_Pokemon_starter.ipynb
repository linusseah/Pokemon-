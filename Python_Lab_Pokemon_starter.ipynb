{
 "cells": [
  {
   "cell_type": "markdown",
   "metadata": {},
   "source": [
    "<img src=\"http://imgur.com/1ZcRyrc.png\" style=\"float: left; margin: 15px; height: 80px\">\n",
    "\n",
    "# Lab 1.01: Data Structures and Python with Pokemon\n",
    "\n",
    "### Building \"Pokemon Stay\"\n",
    "\n",
    "---\n",
    "You are an analyst at a \"scrappy\" online gaming company that specializes in remakes of last year's fads.\n",
    "\n",
    "Your boss, who runs the product development team, is convinced that Pokemon Go's fatal flaw was that you had to actually move around outside. She has design mock-ups for a new game called Pokemon Stay: in this version players still need to move, but just from website to website. Pokemon gyms are now popular online destinations, and catching Pokemon in the \"wild\" simply requires browsing the internet for hours in the comfort of your home.\n",
    "\n",
    "She wants you to program a prototype version of the game."
   ]
  },
  {
   "cell_type": "markdown",
   "metadata": {},
   "source": [
    "## Before we start\n",
    "\n",
    "---\n",
    "We're going to take a quick minute to explore nesting behavior of dictionaries and lists. Consider the following data:"
   ]
  },
  {
   "cell_type": "code",
   "execution_count": 1,
   "metadata": {},
   "outputs": [],
   "source": [
    "#coast > city > day \n",
    "\n",
    "\n",
    "dsi_lecture_times = {\n",
    "    'WC': {\n",
    "        'LA': {\n",
    "            'M': [9, 2],\n",
    "            'T': [9, 2],\n",
    "            'W': [9, 2],\n",
    "            'Th': [9],\n",
    "            'F': [9]},\n",
    "        'SEA': {\n",
    "            'M': [9, 2],\n",
    "            'T': [9, 2],\n",
    "            'W': [9, 2],\n",
    "            'Th': [9],\n",
    "            'F': [9]},\n",
    "        'DEN': {\n",
    "            'M': [10, 3],\n",
    "            'T': [10, 3],\n",
    "            'W': [10, 3],\n",
    "            'Th': [10],\n",
    "            'F': [10]},\n",
    "        'SF': {\n",
    "            'M': [9, 2],\n",
    "            'T': [9, 2],\n",
    "            'W': [9, 2],\n",
    "            'Th': [9],\n",
    "            'F': [9]}},\n",
    "    'EC': {\n",
    "        'BOS': {\n",
    "            'M': [10, 3],\n",
    "            'T': [10, 3],\n",
    "            'W': [10, 3],\n",
    "            'Th': [10],\n",
    "            'F': [10]},\n",
    "        'NYC': {\n",
    "            'M': [10, 3],\n",
    "            'T': [10, 3],\n",
    "            'W': [10, 3],\n",
    "            'Th': [10],\n",
    "            'F': [10]},\n",
    "        'DC': {\n",
    "            'M': [10, 3],\n",
    "            'T': [10, 3],\n",
    "            'W': [10, 3],\n",
    "            'Th': [10],\n",
    "            'F': [10]},\n",
    "        'ATX': {\n",
    "            'M': [9, 2],\n",
    "            'T': [9, 2],\n",
    "            'W': [9, 2],\n",
    "            'Th': [9],\n",
    "            'F': [9]},\n",
    "        'CHI': {\n",
    "            'M': [9, 2],\n",
    "            'T': [9, 2],\n",
    "            'W': [9, 2],\n",
    "            'Th': [9],\n",
    "            'F': [9]},\n",
    "        'ATL': {\n",
    "            'M': [10, 3],\n",
    "            'T': [10, 3],\n",
    "            'W': [10, 3],\n",
    "            'Th': [10],\n",
    "            'F': [10]}}\n",
    "    }"
   ]
  },
  {
   "cell_type": "markdown",
   "metadata": {},
   "source": [
    "This dictionary contains the start times for the global lectures for each of the 10 DSI-CC campuses. The top level indicates the coast. The next level contains the 2 or 3 letter city codes corresponding to the campuses. The next level contains the 5 days of the week; each day of the week contains a list of 1 or 2 integers corresponding to the start time(s) of the day's lectures.\n",
    "\n",
    "Let's set our objective as accessing the **start time of the second Wednesday lecture in Chicago**.\n",
    "\n",
    "Let's look at how the whole dict is rendered as an output in a Jupyter."
   ]
  },
  {
   "cell_type": "code",
   "execution_count": 2,
   "metadata": {},
   "outputs": [
    {
     "data": {
      "text/plain": [
       "2"
      ]
     },
     "execution_count": 2,
     "metadata": {},
     "output_type": "execute_result"
    }
   ],
   "source": [
    "dsi_lecture_times\n",
    "\n",
    "#EC > Chicago > Weds > Lecture time \n",
    "\n",
    "# dsi_lecture_times = {Coast: City: Days: Time}\n",
    "\n",
    "dsi_lecture_times['EC']['CHI']['W'][1] #the final object is a list type so we access by indexing it \n",
    "\n",
    "\n",
    "\n",
    "\n"
   ]
  },
  {
   "cell_type": "markdown",
   "metadata": {},
   "source": [
    "We can see that curly braces (i.e., `{}`) and individual spaces are used to separate layers. Because this can be hard to see, oftentimes we'll use the `keys` method on a dictionary to see what the current level of a dictionary contains. If we approach a dict one level at a time, it's easy to drill down to our objective."
   ]
  },
  {
   "cell_type": "code",
   "execution_count": 3,
   "metadata": {},
   "outputs": [
    {
     "data": {
      "text/plain": [
       "dict_keys(['WC', 'EC'])"
      ]
     },
     "execution_count": 3,
     "metadata": {},
     "output_type": "execute_result"
    }
   ],
   "source": [
    "dsi_lecture_times.keys()"
   ]
  },
  {
   "cell_type": "markdown",
   "metadata": {},
   "source": [
    "Once you identify the key you want to access, use square brackets (i.e., `[]`) to access the value associated with that key."
   ]
  },
  {
   "cell_type": "code",
   "execution_count": 4,
   "metadata": {},
   "outputs": [
    {
     "data": {
      "text/plain": [
       "{'BOS': {'M': [10, 3], 'T': [10, 3], 'W': [10, 3], 'Th': [10], 'F': [10]},\n",
       " 'NYC': {'M': [10, 3], 'T': [10, 3], 'W': [10, 3], 'Th': [10], 'F': [10]},\n",
       " 'DC': {'M': [10, 3], 'T': [10, 3], 'W': [10, 3], 'Th': [10], 'F': [10]},\n",
       " 'ATX': {'M': [9, 2], 'T': [9, 2], 'W': [9, 2], 'Th': [9], 'F': [9]},\n",
       " 'CHI': {'M': [9, 2], 'T': [9, 2], 'W': [9, 2], 'Th': [9], 'F': [9]},\n",
       " 'ATL': {'M': [10, 3], 'T': [10, 3], 'W': [10, 3], 'Th': [10], 'F': [10]}}"
      ]
     },
     "execution_count": 4,
     "metadata": {},
     "output_type": "execute_result"
    }
   ],
   "source": [
    "dsi_lecture_times['EC']"
   ]
  },
  {
   "cell_type": "markdown",
   "metadata": {},
   "source": [
    "It appears that we're still working with a dict. Let's check the type."
   ]
  },
  {
   "cell_type": "code",
   "execution_count": 5,
   "metadata": {},
   "outputs": [
    {
     "data": {
      "text/plain": [
       "dict"
      ]
     },
     "execution_count": 5,
     "metadata": {},
     "output_type": "execute_result"
    }
   ],
   "source": [
    "type(dsi_lecture_times['EC'])"
   ]
  },
  {
   "cell_type": "markdown",
   "metadata": {},
   "source": [
    "It is, in fact, a dictionary. This means that we can use dictionary methods on it. Let's look at the keys."
   ]
  },
  {
   "cell_type": "code",
   "execution_count": 6,
   "metadata": {},
   "outputs": [
    {
     "data": {
      "text/plain": [
       "dict_keys(['BOS', 'NYC', 'DC', 'ATX', 'CHI', 'ATL'])"
      ]
     },
     "execution_count": 6,
     "metadata": {},
     "output_type": "execute_result"
    }
   ],
   "source": [
    "dsi_lecture_times['EC'].keys()"
   ]
  },
  {
   "cell_type": "markdown",
   "metadata": {},
   "source": [
    "We can continue to add `[]` with our desired key because **`dsi_lecture_times['EC']`** points directly to a dict and operates in the same way a variable name pointing to a dict would."
   ]
  },
  {
   "cell_type": "code",
   "execution_count": 7,
   "metadata": {},
   "outputs": [
    {
     "data": {
      "text/plain": [
       "{'M': [9, 2], 'T': [9, 2], 'W': [9, 2], 'Th': [9], 'F': [9]}"
      ]
     },
     "execution_count": 7,
     "metadata": {},
     "output_type": "execute_result"
    }
   ],
   "source": [
    "dsi_lecture_times['EC']['CHI']"
   ]
  },
  {
   "cell_type": "markdown",
   "metadata": {},
   "source": [
    "At this point, you can probably guess how we can access the times for Wednesday. Just add the `['W']` key."
   ]
  },
  {
   "cell_type": "code",
   "execution_count": 8,
   "metadata": {},
   "outputs": [
    {
     "data": {
      "text/plain": [
       "[9, 2]"
      ]
     },
     "execution_count": 8,
     "metadata": {},
     "output_type": "execute_result"
    }
   ],
   "source": [
    "dsi_lecture_times['EC']['CHI']['W']"
   ]
  },
  {
   "cell_type": "markdown",
   "metadata": {},
   "source": [
    "Let's check the type of this final level."
   ]
  },
  {
   "cell_type": "code",
   "execution_count": 9,
   "metadata": {},
   "outputs": [
    {
     "data": {
      "text/plain": [
       "list"
      ]
     },
     "execution_count": 9,
     "metadata": {},
     "output_type": "execute_result"
    }
   ],
   "source": [
    "type(dsi_lecture_times['EC']['CHI']['W'])"
   ]
  },
  {
   "cell_type": "markdown",
   "metadata": {},
   "source": [
    "Because it is a `list` and lists are 0-indexed, to capture the time of the 2nd lecture, we'll use `[1]`. So, to directly access the time of the afternoon lecture in Chicago on Wedensdays, we'll use the following:"
   ]
  },
  {
   "cell_type": "code",
   "execution_count": 10,
   "metadata": {},
   "outputs": [
    {
     "data": {
      "text/plain": [
       "2"
      ]
     },
     "execution_count": 10,
     "metadata": {},
     "output_type": "execute_result"
    }
   ],
   "source": [
    "dsi_lecture_times['EC']['CHI']['W'][1]"
   ]
  },
  {
   "cell_type": "markdown",
   "metadata": {},
   "source": [
    "**Don't get overwhelmed trying to go directly to your target.** Drill down through your data one level at a time, and you're less likely to get lost.\n",
    "___\n",
    "\n",
    "Now, let's [dig(lett)](https://pokemondb.net/pokedex/diglett) into some Pokemon data.\n",
    "\n",
    "![diglett](images/diglett.jpg)\n",
    "\n",
    "Remember, nested dicts aren't aren't [magik(arp)](https://pokemondb.net/pokedex/magikarp).\n",
    "\n",
    "![magikarp](images/magikarp.jpg)"
   ]
  },
  {
   "cell_type": "markdown",
   "metadata": {},
   "source": [
    "## 1. Defining a player\n",
    "\n",
    "---\n",
    "Each player needs to have a set of charactaristics, stored in variables, such as an id, a username, play data, etc. A great structure to house these variables is a `dictionary`, because the `values` can contain any python datatype includeing `list`, `dict`, `tuple`, `int`, `float`, `bool`, or `str`. \n",
    "\n",
    "The player characteristics (keys to the player dict) are:\n",
    "\n",
    "    player_id : id code unique to each player (integer)\n",
    "    player_name : entered name of the player (string)\n",
    "    time_played : number of time played the game in minutes (float)\n",
    "    player_pokemon: the player's captured pokemon (dictionary)\n",
    "    gyms_visited: ids of the gyms that a player has visited (list)"
   ]
  },
  {
   "cell_type": "markdown",
   "metadata": {},
   "source": [
    "### A) Create a `dict` for a single player.\n",
    "\n",
    "* The `player_id` should be 1\n",
    "* Since the player doesn't have a name yet, you may set the `player_name` equal to `None`\n",
    "* The rest of the fields should be populated properly depending on the datatype, i.e., `0.0` or an empty iterable of the appropriate type."
   ]
  },
  {
   "cell_type": "code",
   "execution_count": 11,
   "metadata": {},
   "outputs": [],
   "source": [
    "#created a new dictionary to house a single pokeplayer's profile \n",
    "player_1 = {\n",
    "            \"player_id\": 1,\n",
    "            \"player_name\": \"None\",\n",
    "            \"time_played\": 0.0,\n",
    "            \"player_pokemon\": [],\n",
    "            \"gyms_visited\": [] \n",
    "            } \n",
    "\n",
    "#creating an empty generic player profile dictionary here \n",
    "generic_profile = {\n",
    "            \"player_id\": 0,\n",
    "            \"player_name\": \"None\",\n",
    "            \"time_played\": 0.0,\n",
    "            \"player_pokemon\": [],\n",
    "            \"gyms_visited\": [] \n",
    "            } \n",
    "\n",
    "\n"
   ]
  },
  {
   "cell_type": "code",
   "execution_count": 12,
   "metadata": {},
   "outputs": [
    {
     "data": {
      "text/plain": [
       "{'player_id': 1,\n",
       " 'player_name': 'None',\n",
       " 'time_played': 0.0,\n",
       " 'player_pokemon': [],\n",
       " 'gyms_visited': []}"
      ]
     },
     "execution_count": 12,
     "metadata": {},
     "output_type": "execute_result"
    }
   ],
   "source": [
    "#note that the name of this dict can be anything - it doesn't matter. just a dictionary name \n",
    "player_1\n"
   ]
  },
  {
   "cell_type": "markdown",
   "metadata": {},
   "source": [
    "### B) Create a `dict` to house your dataset of players.\n",
    "\n",
    "* Because only `player_1` exists, there should only be one `key:value` pair. \n",
    "* The `keys` of this `dict` should be the `player_id`, and the `values` should be the dictionaries with single-player info, including the `player_id` (slightly redundant)."
   ]
  },
  {
   "cell_type": "code",
   "execution_count": 13,
   "metadata": {},
   "outputs": [],
   "source": [
    "#created a new dictionary to house all poke players \n",
    "poke_players = {} \n",
    "\n",
    "#adding a new key value to the dictionary. These should be unique user IDs. The key values would be the players \n",
    "#which are dictionary objects containing individual player information\n",
    "#the first user added is the player_1 dictionary that we created in A)\n",
    "poke_players[1] = player_1\n"
   ]
  },
  {
   "cell_type": "code",
   "execution_count": 14,
   "metadata": {},
   "outputs": [
    {
     "data": {
      "text/plain": [
       "{1: {'player_id': 1,\n",
       "  'player_name': 'None',\n",
       "  'time_played': 0.0,\n",
       "  'player_pokemon': [],\n",
       "  'gyms_visited': []}}"
      ]
     },
     "execution_count": 14,
     "metadata": {},
     "output_type": "execute_result"
    }
   ],
   "source": [
    "poke_players\n",
    "\n",
    "#this shows key value of unique ID1 corresponding value of player_1"
   ]
  },
  {
   "cell_type": "markdown",
   "metadata": {},
   "source": [
    "To see the contents of a variable, just run a code cell with the variable name in it."
   ]
  },
  {
   "cell_type": "markdown",
   "metadata": {},
   "source": [
    "### C) Update player 1's info with your own.\n",
    "\n",
    "* By indexing your `poke_players` dictionary, update the `player_name` field to your own name.\n",
    "* Display the contents of `poke_players` to check your work."
   ]
  },
  {
   "cell_type": "code",
   "execution_count": 15,
   "metadata": {},
   "outputs": [
    {
     "data": {
      "text/plain": [
       "{1: {'player_id': 1,\n",
       "  'player_name': 'linus',\n",
       "  'time_played': 0.0,\n",
       "  'player_pokemon': [],\n",
       "  'gyms_visited': []}}"
      ]
     },
     "execution_count": 15,
     "metadata": {},
     "output_type": "execute_result"
    }
   ],
   "source": [
    "#we access username by accessing unique userID 1 which will give us the value (a user_id dictionary) \n",
    "# then the \"Player name\" key within the indiv user dict to change the username value\n",
    "poke_players[1][\"player_name\"] = \"linus\"\n",
    "\n",
    "poke_players"
   ]
  },
  {
   "cell_type": "markdown",
   "metadata": {},
   "source": [
    "### D) Define a function that adds a player to `poke_players`.\n",
    "\n",
    "Your functions should...\n",
    "\n",
    "* Take arguments for `players_dict`, `player_id`, and `player_name`.\n",
    "* Create a player with the above values and populate the `gyms_visited`, `player_pokemon`, and `time_played` in the same way you did for `player_1` above.\n",
    "* Prints the name of the player added.\n",
    "* `return` the updated dictionary."
   ]
  },
  {
   "cell_type": "code",
   "execution_count": 16,
   "metadata": {},
   "outputs": [],
   "source": [
    "#players_dict is the pokeplayers dictionary that we created in B)\n",
    "\n",
    "def add_player(poke_players, player_id, player_name):\n",
    "    if player_id not in poke_players.keys(): #we do not want to accidentally overwrite an existing player's ID \n",
    "        \n",
    "        #we are adding a new key value to the overall player dictionary which should contain individual player \n",
    "        #dictionaries\n",
    "        poke_players[player_id] = {'player_name':player_name, 'player_id':player_id, 'player_pokemon':[],\n",
    "                                   'gymns_visited':[], \"time_played\":0.0}\n",
    "        \n",
    "        print(\"Player{} added at ID {}\".format(player_name, player_id))\n",
    "    else:\n",
    "        print(\"player already exists\")\n",
    "    return poke_players\n",
    "\n"
   ]
  },
  {
   "cell_type": "code",
   "execution_count": 17,
   "metadata": {},
   "outputs": [],
   "source": [
    "def add_player2(poke_players, player_id, player_name):\n",
    "    if player_id not in poke_players.keys(): \n",
    "        poke_players[player_id] = generic_profile\n",
    "        \n",
    "        #trying this method where I define a 'clean' individual user dictionary in A) and refer to that dictionary  \n",
    "        # i.e. dict1 = {}\n",
    "        #dict2[i] = dict1, where dict1 = indiv user info, dict 2 = overall player info \n",
    "        #note this wouldn't work in this case because you want to pass info from the function's argument\n",
    "        #i.e. player_id and player_name to the indiv user's dictionary and this can only be done\n",
    "        #if indiv user dict is defined inside the function itself\n",
    "        \n",
    "        print(\"Player{} added at ID {}\".format(player_name,\"\", player_id))\n",
    "    else:\n",
    "        print(\"player already exists\")\n",
    "    return poke_players"
   ]
  },
  {
   "cell_type": "code",
   "execution_count": 18,
   "metadata": {},
   "outputs": [
    {
     "data": {
      "text/plain": [
       "{'new key': 123}"
      ]
     },
     "execution_count": 18,
     "metadata": {},
     "output_type": "execute_result"
    }
   ],
   "source": [
    "dict = {}  #exmaple of adding new keys to a dictionary \n",
    "dict['new key'] = 123\n",
    "dict"
   ]
  },
  {
   "cell_type": "markdown",
   "metadata": {},
   "source": [
    "### E) Add a new player\n",
    "\n",
    "* Add a second player to the `poke_players` dictionary using the `add_player` function. The id should be 2, but the name is up to you!\n",
    "* Reassign and overwrite the `poke_players` dictionary.\n",
    "* Display the contents of `poke_players` to check your work."
   ]
  },
  {
   "cell_type": "code",
   "execution_count": 19,
   "metadata": {},
   "outputs": [
    {
     "name": "stdout",
     "output_type": "stream",
     "text": [
      "Playergoofy added at ID 2\n"
     ]
    },
    {
     "data": {
      "text/plain": [
       "{1: {'player_id': 1,\n",
       "  'player_name': 'linus',\n",
       "  'time_played': 0.0,\n",
       "  'player_pokemon': [],\n",
       "  'gyms_visited': []},\n",
       " 2: {'player_name': 'goofy',\n",
       "  'player_id': 2,\n",
       "  'player_pokemon': [],\n",
       "  'gymns_visited': [],\n",
       "  'time_played': 0.0}}"
      ]
     },
     "execution_count": 19,
     "metadata": {},
     "output_type": "execute_result"
    }
   ],
   "source": [
    "add_player(poke_players,2,\"goofy\")\n",
    "\n",
    "poke_players"
   ]
  },
  {
   "cell_type": "code",
   "execution_count": 20,
   "metadata": {},
   "outputs": [
    {
     "name": "stdout",
     "output_type": "stream",
     "text": [
      "Playerliz added at ID \n"
     ]
    },
    {
     "data": {
      "text/plain": [
       "{1: {'player_id': 1,\n",
       "  'player_name': 'linus',\n",
       "  'time_played': 0.0,\n",
       "  'player_pokemon': [],\n",
       "  'gyms_visited': []},\n",
       " 2: {'player_name': 'goofy',\n",
       "  'player_id': 2,\n",
       "  'player_pokemon': [],\n",
       "  'gymns_visited': [],\n",
       "  'time_played': 0.0},\n",
       " 3: {'player_id': 0,\n",
       "  'player_name': 'None',\n",
       "  'time_played': 0.0,\n",
       "  'player_pokemon': [],\n",
       "  'gyms_visited': []}}"
      ]
     },
     "execution_count": 20,
     "metadata": {},
     "output_type": "execute_result"
    }
   ],
   "source": [
    "add_player2(poke_players,3,\"liz\")\n",
    "#notice that because the user_id dict used in this function is not defined inside the function\n",
    "#the argument for user ID and username is not passed into the function"
   ]
  },
  {
   "cell_type": "code",
   "execution_count": 21,
   "metadata": {},
   "outputs": [
    {
     "data": {
      "text/plain": [
       "{1: {'player_id': 1,\n",
       "  'player_name': 'linus',\n",
       "  'time_played': 0.0,\n",
       "  'player_pokemon': [],\n",
       "  'gyms_visited': []},\n",
       " 2: {'player_name': 'goofy',\n",
       "  'player_id': 2,\n",
       "  'player_pokemon': [],\n",
       "  'gymns_visited': [],\n",
       "  'time_played': 0.0},\n",
       " 3: {'player_id': 3,\n",
       "  'player_name': 'liz',\n",
       "  'time_played': 0.0,\n",
       "  'player_pokemon': [],\n",
       "  'gyms_visited': []}}"
      ]
     },
     "execution_count": 21,
     "metadata": {},
     "output_type": "execute_result"
    }
   ],
   "source": [
    "poke_players[3][\"player_id\"]=3\n",
    "poke_players[3][\"player_name\"]=\"liz\"\n",
    "poke_players\n",
    "#we could add these in later ... but this defeats the purpose of creating the function in the first place "
   ]
  },
  {
   "cell_type": "code",
   "execution_count": 22,
   "metadata": {},
   "outputs": [
    {
     "data": {
      "text/plain": [
       "{1: {'player_id': 1,\n",
       "  'player_name': 'linus',\n",
       "  'time_played': 0.0,\n",
       "  'player_pokemon': [],\n",
       "  'gyms_visited': []},\n",
       " 2: {'player_name': 'goofy',\n",
       "  'player_id': 2,\n",
       "  'player_pokemon': [],\n",
       "  'gymns_visited': [],\n",
       "  'time_played': 0.0}}"
      ]
     },
     "execution_count": 22,
     "metadata": {},
     "output_type": "execute_result"
    }
   ],
   "source": [
    "poke_players.pop(3,None) #cleaning up my dictionary by removing the previous test entry \n",
    "poke_players"
   ]
  },
  {
   "cell_type": "markdown",
   "metadata": {},
   "source": [
    "## 2. Defining \"gym\" locations\n",
    "\n",
    "---\n",
    "\n",
    "As the sole programmer, Pokemon Stay will have to start small. To begin, there will be 10 different gym location websites on the internet. The gym locations are:\n",
    "\n",
    "    1. 'reddit.com'\n",
    "    2. 'amazon.com'\n",
    "    3. 'twitter.com'\n",
    "    4. 'linkedin.com'\n",
    "    5. 'ebay.com'\n",
    "    6. 'netflix.com'\n",
    "    7. 'stackoverflow.com'\n",
    "    8. 'github.com'\n",
    "    9. 'quora.com'\n",
    "    10. 'google.com'\n",
    "\n",
    "* Set up a list of all the gym locations. This will be a list of strings. Print the list to check your work.\n",
    "* For each player in `poke_players`, use `sample` (imported from `random` below) to randomly select 2 gyms and add these gyms to the `gyms_visited` field.\n",
    "* Display the contents of `poke_players` to check your work."
   ]
  },
  {
   "cell_type": "code",
   "execution_count": 23,
   "metadata": {},
   "outputs": [
    {
     "data": {
      "text/plain": [
       "['reddit.com',\n",
       " 'amazon.com',\n",
       " 'twitter.com',\n",
       " 'linkedin.com',\n",
       " 'ebay.com',\n",
       " 'netflix.com',\n",
       " 'stackoverflow.com',\n",
       " 'github.com',\n",
       " 'quora.com',\n",
       " 'google.com']"
      ]
     },
     "execution_count": 23,
     "metadata": {},
     "output_type": "execute_result"
    }
   ],
   "source": [
    "gym_locations = ['reddit.com','amazon.com','twitter.com',\n",
    "                'linkedin.com','ebay.com', 'netflix.com',\n",
    "                'stackoverflow.com','github.com','quora.com',\n",
    "                 'google.com']\n",
    "gym_locations"
   ]
  },
  {
   "cell_type": "code",
   "execution_count": 24,
   "metadata": {},
   "outputs": [
    {
     "data": {
      "text/plain": [
       "{1: {'player_id': 1,\n",
       "  'player_name': 'linus',\n",
       "  'time_played': 0.0,\n",
       "  'player_pokemon': [],\n",
       "  'gyms_visited': [],\n",
       "  'gymns_visited': ['linkedin.com', 'reddit.com']},\n",
       " 2: {'player_name': 'goofy',\n",
       "  'player_id': 2,\n",
       "  'player_pokemon': [],\n",
       "  'gymns_visited': ['google.com', 'reddit.com'],\n",
       "  'time_played': 0.0}}"
      ]
     },
     "execution_count": 24,
     "metadata": {},
     "output_type": "execute_result"
    }
   ],
   "source": [
    "#randomly sampling 2 gyms\n",
    "from random import sample\n",
    "sample(gym_locations,2)\n",
    "\n",
    "#allocate these randomly sampled gyms to all players in pokeplayer dict \n",
    "for i in poke_players:\n",
    "    poke_players[i]['gymns_visited'] = sample(gym_locations,2)\n",
    "\n",
    "poke_players\n",
    "\n",
    "#alt solution:\n",
    "#for player_id in poke_players.keys():\n",
    "#poke_players[player_id]['gyms_visited'].extend(sample(gyms,2))\n",
    "\n",
    "#note difference btw extend() and append()\n",
    "#extend() merges new variables into existing list whereas append adds other lists as variables into an existing list\n",
    "#e.g. list 1 = [1,2,3] list 2 = [4,5] extending results in list 3 = [1,2,3,4,5] appending results in list 3 = [1,2,3,[4,5]]\n"
   ]
  },
  {
   "cell_type": "markdown",
   "metadata": {},
   "source": [
    "## 3. Create a pokedex\n",
    "\n",
    "---\n",
    "\n",
    "We also need to create some pokemon to catch! Let's store the attributes of each pokemon in a `dictionary`, since each pokemon has many characteristics we'd like to store.\n",
    "\n",
    "\n",
    "Each pokemon will be defined by these characteristics (keys to the pokemon dict):\n",
    "\n",
    "    poke_id : unique identifier for each pokemon (integer, sequential)\n",
    "    poke_name : the name of the pokemon (string)\n",
    "    poke_type : the category of pokemon (string)\n",
    "    hp : base hitpoints (integer between 400 and 500)\n",
    "    attack : base attack (integer between 50 and 100)\n",
    "    defense : base defense (integer between 50 and 100)\n",
    "    special_attack : base special attack (integer between 100 and 150)\n",
    "    special_defense : base sepecial defense (integer between 100 and 150)\n",
    "    speed : base speed (integer between 0 and 100)\n",
    "    \n",
    "**Note**: All integer ranges are inclusive on both ends."
   ]
  },
  {
   "cell_type": "markdown",
   "metadata": {},
   "source": [
    "### A) Create a function called `create_pokemon`\n",
    "\n",
    "* The function should take arguments for `poke_id`, `poke_name`, and `poke_type`.\n",
    "* Assign these arguments along with random stats into a `dict` using the guidelines above.\n",
    "* Use `np.random.randint` to generate values for the numeric attributes based on the conditions above. If you're not clear on how this function works, there is a cell below with an example. Play around with it!\n",
    "* The function should return a `dict` for the pokemon.\n",
    "* Without assigning it to a variable, check the function's output by calling it with the following arguments:\n",
    "  * `poke_id = 1`\n",
    "  * `poke_name = 'charmander'`\n",
    "  * `poke_type = 'fire'`"
   ]
  },
  {
   "cell_type": "code",
   "execution_count": 25,
   "metadata": {},
   "outputs": [],
   "source": [
    "import numpy as np\n",
    "\n",
    "#creating a function that creates a dictionary for an individual pokemon's stats\n",
    "def create_pokemon(poke_id, poke_name, poke_type):\n",
    "    pokemon = {\"poke_id\": poke_id,\n",
    "               \"poke_name\": poke_name, \n",
    "               \"poke_type\": poke_type,\n",
    "               \"hp\": np.random.randint(400,501),\n",
    "               \"attack\": np.random.randint(50,101), \n",
    "               \"defense\": np.random.randint(50,101),\n",
    "               \"special_attack\": np.random.randint(100,151),\n",
    "               \"special_defense\":np.random.randint(100,151),\n",
    "               \"speed\": np.random.randint(0,101)}\n",
    "    return pokemon\n",
    "        "
   ]
  },
  {
   "cell_type": "code",
   "execution_count": 26,
   "metadata": {},
   "outputs": [
    {
     "data": {
      "text/plain": [
       "{'poke_id': 1,\n",
       " 'poke_name': 'charmander',\n",
       " 'poke_type': 'fire',\n",
       " 'hp': 412,\n",
       " 'attack': 77,\n",
       " 'defense': 59,\n",
       " 'special_attack': 141,\n",
       " 'special_defense': 136,\n",
       " 'speed': 39}"
      ]
     },
     "execution_count": 26,
     "metadata": {},
     "output_type": "execute_result"
    }
   ],
   "source": [
    "create_pokemon(1,'charmander','fire')"
   ]
  },
  {
   "cell_type": "markdown",
   "metadata": {},
   "source": [
    "### B) Populate the `pokedex`!\n",
    "\n",
    "Now we need some pokemon to catch. Let's create a dictionary to store the information!\n",
    "\n",
    "* Instantiate an empyt dictionary called `pokedex`.\n",
    "* Define a function called `create_and_add_to_pokedex`. This function should...\n",
    "  * Take arguments for `pokedex`,  `poke_id`, `poke_name`, and `poke_type`.\n",
    "  * Use the `create_pokemon` function you created earlier to create a pokemon using the provided `poke_id`, `poke_name`, and `poke_type`.\n",
    "  * Add a new `key:value` pair to the `pokedex` dictionary where:\n",
    "    * the `key` is the `poke_id`, and\n",
    "    * the `value` is the newly-created pokemon dict, including the `poke_id` (this is slightly redundant, but that's ok!)\n",
    "  * Prints the name of the pokemon added to the pokedex using the string `format` method or `f` strings.\n",
    "* Add the following 3 pokemon to your `pokedex` using `create_and_add_to_pokedex`:\n",
    "\n",
    "|Id|Name|Type|\n",
    "|---|---|---|\n",
    "|1|charmander|fire|\n",
    "|2|squirtle|water|\n",
    "|3|bulasaur|poison|\n",
    "\n",
    "Display your `pokedex` to check your work. It should look something like...\n",
    "\n",
    "```python\n",
    "{1: {'attack': 64,\n",
    "  'defense': 59,\n",
    "  'hp': 495,\n",
    "  'poke_id': 1,\n",
    "  'poke_name': 'charmander',\n",
    "  'poke_type': 'fire',\n",
    "  'special_attack': 100,\n",
    "  ...\n",
    "```"
   ]
  },
  {
   "cell_type": "code",
   "execution_count": 27,
   "metadata": {},
   "outputs": [],
   "source": [
    "import numpy as np #note that you have to re-import numpy again here if not code won't work because we are using \n",
    "#numpy function randint\n",
    "\n",
    "#creating a dictionary to store all pokemon profiles \n",
    "pokedex = {}\n",
    "\n",
    "def create_and_add_to_pokedex (pokedex, poke_id, poke_name, poke_type):\n",
    "    pokedex[poke_id] = create_pokemon(poke_id,poke_name,poke_type)\n",
    "    return pokedex[poke_id]\n",
    "\n",
    "#notice that this is what i was trying to do in part 1. it works this time because the arguments have alr been\n",
    "#defined in a function for the creation of the indiv dictionary poke stats\n",
    "\n",
    "pokedex[1] = create_pokemon(1,'charmander','fire')\n"
   ]
  },
  {
   "cell_type": "code",
   "execution_count": 28,
   "metadata": {},
   "outputs": [
    {
     "data": {
      "text/plain": [
       "{1: {'poke_id': 1,\n",
       "  'poke_name': 'charmander',\n",
       "  'poke_type': 'fire',\n",
       "  'hp': 416,\n",
       "  'attack': 94,\n",
       "  'defense': 83,\n",
       "  'special_attack': 112,\n",
       "  'special_defense': 146,\n",
       "  'speed': 1}}"
      ]
     },
     "execution_count": 28,
     "metadata": {},
     "output_type": "execute_result"
    }
   ],
   "source": [
    "pokedex"
   ]
  },
  {
   "cell_type": "code",
   "execution_count": 29,
   "metadata": {},
   "outputs": [
    {
     "data": {
      "text/plain": [
       "{1: {'poke_id': 1,\n",
       "  'poke_name': 'charmander',\n",
       "  'poke_type': 'fire',\n",
       "  'hp': 416,\n",
       "  'attack': 94,\n",
       "  'defense': 83,\n",
       "  'special_attack': 112,\n",
       "  'special_defense': 146,\n",
       "  'speed': 1},\n",
       " 2: {'poke_id': 2,\n",
       "  'poke_name': 'squirtle',\n",
       "  'poke_type': 'water',\n",
       "  'hp': 466,\n",
       "  'attack': 96,\n",
       "  'defense': 50,\n",
       "  'special_attack': 126,\n",
       "  'special_defense': 113,\n",
       "  'speed': 93},\n",
       " 3: {'poke_id': 3,\n",
       "  'poke_name': 'bulbasaur',\n",
       "  'poke_type': 'poison',\n",
       "  'hp': 437,\n",
       "  'attack': 91,\n",
       "  'defense': 89,\n",
       "  'special_attack': 138,\n",
       "  'special_defense': 100,\n",
       "  'speed': 15}}"
      ]
     },
     "execution_count": 29,
     "metadata": {},
     "output_type": "execute_result"
    }
   ],
   "source": [
    "create_and_add_to_pokedex (pokedex, 2, 'squirtle', 'water')\n",
    "create_and_add_to_pokedex (pokedex, 3, 'bulbasaur', 'poison')\n",
    "pokedex"
   ]
  },
  {
   "cell_type": "code",
   "execution_count": 30,
   "metadata": {},
   "outputs": [],
   "source": [
    "#formatting using f strings\n",
    "\n"
   ]
  },
  {
   "cell_type": "markdown",
   "metadata": {},
   "source": [
    "## 4. Let's capture some pokemon!\n",
    "\n",
    "---\n",
    "\n",
    "Each player in `poke_players` should have a nested dictionary with the key `'player_pokemon'`. This is intended to be the place where we keep track of which of the pokemon each player has.\n",
    "\n",
    "The keys of the `'player_pokemon'` dictionaries are the `poke_id`s that correspond to the ids in the `pokedex` dictionary you created earlier, and the values are the individual pokemon dicts. \n",
    "\n",
    "Essentially, we are replicating the structure of our `pokedex` for each user, only showing the Pokemon a particular user has captured nested within their individual player dictionary.\n",
    "\n",
    "* Define a function called `add_pokemon_to_player` that...\n",
    "  * Takes arguents for `player_id`, `poke_id`, `poke_players`, and `pokedex`.\n",
    "  * Adds the desired pokemon to the `player_pokemon` field of the specified player\n",
    "  * Prints which pokemon was added to which player.\n",
    "  * Returns the modified `poke_players`."
   ]
  },
  {
   "cell_type": "code",
   "execution_count": 31,
   "metadata": {},
   "outputs": [
    {
     "data": {
      "text/plain": [
       "{1: {'player_id': 1,\n",
       "  'player_name': 'linus',\n",
       "  'time_played': 0.0,\n",
       "  'player_pokemon': [],\n",
       "  'gyms_visited': [],\n",
       "  'gymns_visited': ['linkedin.com', 'reddit.com']},\n",
       " 2: {'player_name': 'goofy',\n",
       "  'player_id': 2,\n",
       "  'player_pokemon': [],\n",
       "  'gymns_visited': ['google.com', 'reddit.com'],\n",
       "  'time_played': 0.0}}"
      ]
     },
     "execution_count": 31,
     "metadata": {},
     "output_type": "execute_result"
    }
   ],
   "source": [
    "poke_players"
   ]
  },
  {
   "cell_type": "code",
   "execution_count": 32,
   "metadata": {},
   "outputs": [],
   "source": [
    "import numpy as np\n",
    "\n",
    "#creating a function that adds a pokemon to an indiv player's own pokedex\n",
    "#pokeID is the pokemon that the player 'catches'\n",
    "#assumption is that the base pokedex has alr been populated with all pokeIDs (pokemon that can be caught) \n",
    "#so this function merely refers to a unique pokeID from the base pokedex \n",
    "\n",
    "def add_pokemon_to_player(player_id, poke_id, poke_players, pokedex):\n",
    "    \n",
    "    #adding pokemon to indiv players by referencing to unique pokemonIDs created in base pokedex \n",
    "    #each of this pokemond IDs in turn contains its own dictionary with pokemon stats\n",
    "    #rmb that player_pokemon is a list\n",
    "    #so this does not work: poke_players[player_id][\"player_pokemon\"] = pokedex[poke_id]\n",
    "    poke_players[player_id][\"player_pokemon\"].append(pokedex[poke_id])\n",
    "    \n",
    "    return poke_players[player_id][\"player_pokemon\"]\n",
    "    \n",
    "#to add the print statement     \n",
    "#figure out why not more than 1 pokemon can be added to an individual's 'poke player pokedex' append to the list? \n",
    "    \n",
    "    "
   ]
  },
  {
   "cell_type": "code",
   "execution_count": 33,
   "metadata": {},
   "outputs": [
    {
     "data": {
      "text/plain": [
       "{1: {'player_id': 1,\n",
       "  'player_name': 'linus',\n",
       "  'time_played': 0.0,\n",
       "  'player_pokemon': [],\n",
       "  'gyms_visited': [],\n",
       "  'gymns_visited': ['linkedin.com', 'reddit.com']},\n",
       " 2: {'player_name': 'goofy',\n",
       "  'player_id': 2,\n",
       "  'player_pokemon': [],\n",
       "  'gymns_visited': ['google.com', 'reddit.com'],\n",
       "  'time_played': 0.0}}"
      ]
     },
     "execution_count": 33,
     "metadata": {},
     "output_type": "execute_result"
    }
   ],
   "source": [
    "#del(poke_players[2]['player_pokemon'][0]) #removing pokemons from players pokedex list\n",
    "poke_players    "
   ]
  },
  {
   "cell_type": "code",
   "execution_count": 34,
   "metadata": {},
   "outputs": [
    {
     "data": {
      "text/plain": [
       "{1: {'player_id': 1,\n",
       "  'player_name': 'linus',\n",
       "  'time_played': 0.0,\n",
       "  'player_pokemon': [{'poke_id': 2,\n",
       "    'poke_name': 'squirtle',\n",
       "    'poke_type': 'water',\n",
       "    'hp': 466,\n",
       "    'attack': 96,\n",
       "    'defense': 50,\n",
       "    'special_attack': 126,\n",
       "    'special_defense': 113,\n",
       "    'speed': 93}],\n",
       "  'gyms_visited': [],\n",
       "  'gymns_visited': ['linkedin.com', 'reddit.com']},\n",
       " 2: {'player_name': 'goofy',\n",
       "  'player_id': 2,\n",
       "  'player_pokemon': [{'poke_id': 1,\n",
       "    'poke_name': 'charmander',\n",
       "    'poke_type': 'fire',\n",
       "    'hp': 416,\n",
       "    'attack': 94,\n",
       "    'defense': 83,\n",
       "    'special_attack': 112,\n",
       "    'special_defense': 146,\n",
       "    'speed': 1},\n",
       "   {'poke_id': 3,\n",
       "    'poke_name': 'bulbasaur',\n",
       "    'poke_type': 'poison',\n",
       "    'hp': 437,\n",
       "    'attack': 91,\n",
       "    'defense': 89,\n",
       "    'special_attack': 138,\n",
       "    'special_defense': 100,\n",
       "    'speed': 15}],\n",
       "  'gymns_visited': ['google.com', 'reddit.com'],\n",
       "  'time_played': 0.0}}"
      ]
     },
     "execution_count": 34,
     "metadata": {},
     "output_type": "execute_result"
    }
   ],
   "source": [
    "add_pokemon_to_player(1,2,poke_players,pokedex)\n",
    "add_pokemon_to_player(2,1,poke_players,pokedex)\n",
    "add_pokemon_to_player(2,3,poke_players,pokedex)\n",
    "\n",
    "poke_players"
   ]
  },
  {
   "cell_type": "markdown",
   "metadata": {},
   "source": [
    "* Call your function three times to add \n",
    "  * `squirtle` to player 1\n",
    "  * `charmander` to player 2\n",
    "  * `bulbasaur` to player 2\n",
    "* Overwrite your `poke_player` variable each time with the updated dictionary.\n",
    "* Display the contents of `poke_players` to check your work."
   ]
  },
  {
   "cell_type": "markdown",
   "metadata": {},
   "source": [
    "## 5. What gyms have players visited?\n",
    "\n",
    "### A) Checking gyms\n",
    "\n",
    "Write a nested for-loop that:\n",
    "\n",
    "1. Iterates through the `gyms` list of gym locations you defined before.\n",
    "2. For each gym, iterate through each player in the `poke_players` dictionary with a second, internal for-loop, checking if the player has visited that gym (stored in the `'gyms_visited'` list).\n",
    "3. If the player has visited the gym, print out \"{player_name} has visited {gym}.\", filling in `{player_name}` and `{gym}` with the current player's name and current gym location."
   ]
  },
  {
   "cell_type": "code",
   "execution_count": 35,
   "metadata": {},
   "outputs": [
    {
     "data": {
      "text/plain": [
       "'reddit.com'"
      ]
     },
     "execution_count": 35,
     "metadata": {},
     "output_type": "execute_result"
    }
   ],
   "source": [
    "gym_locations[0]"
   ]
  },
  {
   "cell_type": "code",
   "execution_count": 46,
   "metadata": {},
   "outputs": [
    {
     "name": "stdout",
     "output_type": "stream",
     "text": [
      "player linus has visited gym reddit.com\n",
      "player linus has visited gym linkedin.com\n",
      "player goofy has visited gym reddit.com\n",
      "player goofy has visited gym google.com\n"
     ]
    }
   ],
   "source": [
    "for i in poke_players.values(): #iterating through the overall player library, which will return indiv player dicts\n",
    "    for k in gym_locations:     #iterating through the gym_location list\n",
    "        if k in i['gymns_visited']: # i here refers to an indiv players dict so ['gyms visited'] is the key to the gym values\n",
    "            print (\"player\", i[\"player_name\"], \"has visited gym\", k)\n",
    "\n",
    "#think about how to do it starting from iterating through the gym locations "
   ]
  },
  {
   "cell_type": "code",
   "execution_count": 43,
   "metadata": {},
   "outputs": [
    {
     "name": "stdout",
     "output_type": "stream",
     "text": [
      "{'player_id': 1, 'player_name': 'linus', 'time_played': 0.0, 'player_pokemon': [{'poke_id': 2, 'poke_name': 'squirtle', 'poke_type': 'water', 'hp': 466, 'attack': 96, 'defense': 50, 'special_attack': 126, 'special_defense': 113, 'speed': 93}], 'gyms_visited': [], 'gymns_visited': ['linkedin.com', 'reddit.com']}\n",
      "{'player_name': 'goofy', 'player_id': 2, 'player_pokemon': [{'poke_id': 1, 'poke_name': 'charmander', 'poke_type': 'fire', 'hp': 416, 'attack': 94, 'defense': 83, 'special_attack': 112, 'special_defense': 146, 'speed': 1}, {'poke_id': 3, 'poke_name': 'bulbasaur', 'poke_type': 'poison', 'hp': 437, 'attack': 91, 'defense': 89, 'special_attack': 138, 'special_defense': 100, 'speed': 15}], 'gymns_visited': ['google.com', 'reddit.com'], 'time_played': 0.0}\n"
     ]
    }
   ],
   "source": [
    "for i in poke_players.values():\n",
    "    print(i)"
   ]
  },
  {
   "cell_type": "markdown",
   "metadata": {},
   "source": [
    "### B) Computational Complexity\n",
    "\n",
    "How many times did that loop run? If you have N gyms and also M players, how many times would it run as a function of N and M? \n",
    "\n",
    "(You can write your answer as Markdown text.)"
   ]
  },
  {
   "cell_type": "markdown",
   "metadata": {},
   "source": [
    "$N \\text{ gyms x } M \\text{ players } = NxM$"
   ]
  },
  {
   "cell_type": "markdown",
   "metadata": {},
   "source": []
  },
  {
   "cell_type": "markdown",
   "metadata": {},
   "source": [
    "## 6. Calculate player \"power\".\n",
    "\n",
    "---\n",
    "\n",
    "Define a function that will calculate a player's \"power\". Player power is defined as the sum of the base statistics all of their pokemon.\n",
    "\n",
    "$$\n",
    "\\text{player power } = \\sum_{i = 1}^{n}\\text{attack}_i + \\text{defense}_i + \\text{special attack}_i + \\text{special defense}_i\n",
    "$$\n",
    "\n",
    "Where $i$ is an individual pokemon in a player's `player_pokemon`. ($\\sum$ just means sum, so you're just adding up all the attributes listed above for all the pokemon in the player's `player_pokemon`).\n",
    "\n",
    "Your function should:\n",
    "\n",
    "*  Accept a `poke_players` dictionary and a `player_id` as arguments.\n",
    "*  For the specified player_id, look up that player's pokemon.\n",
    "*  Find and aggregate the attack and defense values for each of the player's pokemon.\n",
    "*  Print \"{player_name}'s power is {player_power}.\", where the `player_power` is the sum of the base statistics for all of their pokemon.\n",
    "*  Return the player's power value.\n",
    "\n",
    "Check your work by looping through all players in your `poke_players` dict."
   ]
  },
  {
   "cell_type": "code",
   "execution_count": 91,
   "metadata": {},
   "outputs": [],
   "source": [
    "def get_power(player_id, poke_players):\n",
    "    for i in poke_players[player_id][\"player_pokemon\"]:\n",
    "        player_stats=[]\n",
    "        player_stats.append(i['attack'])\n",
    "        player_stats.append(i['defense'])\n",
    "        player_stats.append(i['special_defense'])\n",
    "        player_stats.append(i['special_attack'])\n",
    "    print(poke_players[player_id][\"player_name\"],\"'s power is:\",sum(player_stats))\n"
   ]
  },
  {
   "cell_type": "code",
   "execution_count": 93,
   "metadata": {},
   "outputs": [
    {
     "name": "stdout",
     "output_type": "stream",
     "text": [
      "goofy 's power is: 418\n"
     ]
    }
   ],
   "source": [
    "get_power(2,poke_players)"
   ]
  },
  {
   "cell_type": "code",
   "execution_count": 96,
   "metadata": {},
   "outputs": [
    {
     "name": "stdout",
     "output_type": "stream",
     "text": [
      "linus 's power is: 385\n",
      "goofy 's power is: 418\n"
     ]
    }
   ],
   "source": [
    "#looping through all players in poke_players\n",
    "for i in poke_players:\n",
    "    get_power(i,poke_players)"
   ]
  },
  {
   "cell_type": "markdown",
   "metadata": {},
   "source": [
    "Trying to breakdown the different steps below: "
   ]
  },
  {
   "cell_type": "code",
   "execution_count": 63,
   "metadata": {},
   "outputs": [
    {
     "name": "stdout",
     "output_type": "stream",
     "text": [
      "[{'poke_id': 2, 'poke_name': 'squirtle', 'poke_type': 'water', 'hp': 466, 'attack': 96, 'defense': 50, 'special_attack': 126, 'special_defense': 113, 'speed': 93}]\n",
      "[{'poke_id': 1, 'poke_name': 'charmander', 'poke_type': 'fire', 'hp': 416, 'attack': 94, 'defense': 83, 'special_attack': 112, 'special_defense': 146, 'speed': 1}, {'poke_id': 3, 'poke_name': 'bulbasaur', 'poke_type': 'poison', 'hp': 437, 'attack': 91, 'defense': 89, 'special_attack': 138, 'special_defense': 100, 'speed': 15}]\n"
     ]
    }
   ],
   "source": [
    "for i in poke_players.values():\n",
    "    print (i[\"player_pokemon\"])"
   ]
  },
  {
   "cell_type": "code",
   "execution_count": 59,
   "metadata": {},
   "outputs": [
    {
     "name": "stdout",
     "output_type": "stream",
     "text": [
      "96\n",
      "94\n",
      "91\n"
     ]
    }
   ],
   "source": [
    "for i in poke_players.values():\n",
    "    for k in i[\"player_pokemon\"]: #k is iterating through indiv pokemon dictionary keys \n",
    "        print(k[\"attack\"])\n",
    "    \n",
    "    \n",
    "    "
   ]
  },
  {
   "cell_type": "code",
   "execution_count": 60,
   "metadata": {},
   "outputs": [],
   "source": [
    "for i in poke_players.values():\n",
    "    player_stats = []\n",
    "    for k in i[\"player_pokemon\"]: #k is iterating through indiv pokemon dictionary keys \n",
    "        player_stats.append(k['attack'])\n",
    "        "
   ]
  },
  {
   "cell_type": "code",
   "execution_count": 61,
   "metadata": {},
   "outputs": [
    {
     "data": {
      "text/plain": [
       "[94, 91]"
      ]
     },
     "execution_count": 61,
     "metadata": {},
     "output_type": "execute_result"
    }
   ],
   "source": [
    "player_stats"
   ]
  },
  {
   "cell_type": "code",
   "execution_count": 76,
   "metadata": {},
   "outputs": [
    {
     "name": "stdout",
     "output_type": "stream",
     "text": [
      "385\n"
     ]
    }
   ],
   "source": [
    "for i in poke_players[1][\"player_pokemon\"]:\n",
    "    player_stats=[]\n",
    "    player_stats.append(i['attack'])\n",
    "    player_stats.append(i['defense'])\n",
    "    player_stats.append(i['special_defense'])\n",
    "    player_stats.append(i['special_attack'])\n",
    "\n",
    "print(sum(player_stats))"
   ]
  },
  {
   "cell_type": "code",
   "execution_count": null,
   "metadata": {},
   "outputs": [],
   "source": []
  },
  {
   "cell_type": "code",
   "execution_count": null,
   "metadata": {},
   "outputs": [],
   "source": []
  },
  {
   "cell_type": "markdown",
   "metadata": {},
   "source": [
    "## 7. Load a pokedex file containing all the pokemon\n",
    "\n",
    "---\n",
    "\n",
    "### Load data using the `with open()` method.\n",
    "\n",
    "While you were putting together the prototype code, your colleagues were preparing a dataset of Pokemon and their attributes (This was a rush job, so they may have picked some crazy values for some...). Your task is to load the data into a list of lists so you can manipulate it.\n",
    "\n",
    "* The `type` of the data should be a `list`\n",
    "  * The `type` of each element in that list should be a `list`\n",
    "    * The `type` of each element in the sub-list should be `str` or `float`.\n",
    "\n",
    "The code provided loads the data into one looooong `str`. To get it into the correct format:\n",
    "* Use the string `.replace()` method to remove `\"`. \n",
    "* Use the string `.split()` method to create a new row for each line. New lines are denoted with a `'\\n'`.\n",
    "* Use `.split()` again on each line, splitting on commas to separate your individual values.\n",
    "* Iterate through your data. Use `try/except` to cast numeric data as type `float`. \n",
    "\n",
    "Your end result is effectively a matrix. Each list $i$ in the outer list is a row, and the $j$th elements of list together form the *j*th column, which represents a data attribute. The first three lists in your pokedex list should look like this:\n",
    "\n",
    "    ['PokedexNumber', 'Name', 'Type', 'Total', 'HP', 'Attack', 'Defense', 'SpecialAttack', 'SpecialDefense', 'Speed']\n",
    "    [1.0, 'Bulbasaur', 'GrassPoison', 318.0, 45.0, 49.0, 49.0, 65.0, 65.0, 45.0]\n",
    "    [2.0, 'Ivysaur', 'GrassPoison', 405.0, 60.0, 62.0, 63.0, 80.0, 80.0, 60.0]\n",
    "    \n",
    "In the above example, `new_pd[1][3]` would return the value `[318.0]`, which occupies the 4th index of the 2nd row (Python is 0-indexed).\n",
    "    \n",
    "**WARNING:** Don't print or display your entire new pokedex! Viewing that many entries will clog up your notebook and make it difficult to read."
   ]
  },
  {
   "cell_type": "markdown",
   "metadata": {},
   "source": [
    "Overall steps:\n",
    "1) Read .csv file\n",
    "2) Clean up data, remove \"\" using replace() function\n",
    "3) split string into indiv poke stat strings using split()function by \\n\n",
    "4) restructured each indiv poke stat string into a list by iterating through the strings and appending it into indiv lists\n",
    "5) defined a function to cast numbers into float type\n",
    "6) iterated through the list of pokestat lists and used function on each list \n"
   ]
  },
  {
   "cell_type": "code",
   "execution_count": 194,
   "metadata": {},
   "outputs": [],
   "source": [
    "# Code to read in pokedex info\n",
    "raw_pd = ''\n",
    "pokedex_file = 'pokedex_basic.csv'\n",
    "with open(pokedex_file, 'r') as f:\n",
    "    raw_pd = f.read()\n",
    "    \n",
    "# the pokedex string is assigned to the raw_pd variable"
   ]
  },
  {
   "cell_type": "code",
   "execution_count": 195,
   "metadata": {},
   "outputs": [
    {
     "data": {
      "text/plain": [
       "str"
      ]
     },
     "execution_count": 195,
     "metadata": {},
     "output_type": "execute_result"
    }
   ],
   "source": [
    "type(raw_pd) \n",
    "#the file has been translated into a single long string"
   ]
  },
  {
   "cell_type": "code",
   "execution_count": 196,
   "metadata": {},
   "outputs": [],
   "source": [
    "raw_pd = raw_pd.replace('\"','')\n",
    "#removing all the '' marks\n",
    "#note that there cannot be spaces when you're defining the thing to be replaced (i.e. don't type ' \" ')"
   ]
  },
  {
   "cell_type": "code",
   "execution_count": 197,
   "metadata": {},
   "outputs": [],
   "source": [
    "#now we have a list containing lists of all indiv poke stats in single string form \n",
    "#splitting it up into one string per pokemon using the \\n as delimiter\n",
    "raw_pd = raw_pd.split('\\n')"
   ]
  },
  {
   "cell_type": "code",
   "execution_count": 198,
   "metadata": {},
   "outputs": [
    {
     "data": {
      "text/plain": [
       "'001,Bulbasaur,GrassPoison,318,45,49,49,65,65,45'"
      ]
     },
     "execution_count": 198,
     "metadata": {},
     "output_type": "execute_result"
    }
   ],
   "source": [
    "raw_pd[1] \n",
    "#raw_pd is now a list of strings, with each string representing one poke's stats"
   ]
  },
  {
   "cell_type": "code",
   "execution_count": 199,
   "metadata": {},
   "outputs": [],
   "source": [
    "#we need to convert each string into a list of pokestat values so that indiv values can be indexed \n",
    "\n",
    "y = []\n",
    "for string in raw_pd:\n",
    "    y.append([string])\n",
    "    \n",
    "raw_pd = y #raw_pd is now a list of indiv pokemon lists "
   ]
  },
  {
   "cell_type": "code",
   "execution_count": 200,
   "metadata": {},
   "outputs": [],
   "source": [
    "z=[]\n",
    "for i in raw_pd: #each list\n",
    "    for k in i: #each string in the list\n",
    "        z.append(k.split(',')) #splitting the single string using ',' as delimiter\n",
    "        \n",
    "raw_pd = z \n",
    "#indiv pokemon lists now have each stat value split into indiv strings from what was originally a single long string "
   ]
  },
  {
   "cell_type": "code",
   "execution_count": 201,
   "metadata": {},
   "outputs": [
    {
     "name": "stdout",
     "output_type": "stream",
     "text": [
      "['001', 'Bulbasaur', 'GrassPoison', '318', '45', '49', '49', '65', '65', '45']\n",
      "['002', 'Ivysaur', 'GrassPoison', '405', '60', '62', '63', '80', '80', '60']\n"
     ]
    }
   ],
   "source": [
    "for i in raw_pd[1:3]: #test print \n",
    "    print(i)"
   ]
  },
  {
   "cell_type": "code",
   "execution_count": 202,
   "metadata": {},
   "outputs": [],
   "source": [
    "#defining a function that casts numbers in each indiv poke stats list into float type\n",
    "def flo_rider2(a):\n",
    "    b=[]\n",
    "    for k in a:\n",
    "        try:\n",
    "            b.append(float(k))\n",
    "        except:\n",
    "            b.append(k)\n",
    "    return b\n",
    "\n",
    "c=[]\n",
    "for i in raw_pd:\n",
    "    c.append(flo_rider2(i))\n",
    "\n",
    "new_pd = c"
   ]
  },
  {
   "cell_type": "code",
   "execution_count": 203,
   "metadata": {},
   "outputs": [
    {
     "data": {
      "text/plain": [
       "318.0"
      ]
     },
     "execution_count": 203,
     "metadata": {},
     "output_type": "execute_result"
    }
   ],
   "source": [
    "#test\n",
    "new_pd[1][3]"
   ]
  },
  {
   "cell_type": "markdown",
   "metadata": {},
   "source": [
    "To preview the top 3 rows of your list of lists, use the code below:"
   ]
  },
  {
   "cell_type": "code",
   "execution_count": 204,
   "metadata": {},
   "outputs": [
    {
     "data": {
      "text/plain": [
       "[['PokedexNumber',\n",
       "  'Name',\n",
       "  'Type',\n",
       "  'Total',\n",
       "  'HP',\n",
       "  'Attack',\n",
       "  'Defense',\n",
       "  'SpecialAttack',\n",
       "  'SpecialDefense',\n",
       "  'Speed'],\n",
       " [1.0, 'Bulbasaur', 'GrassPoison', 318.0, 45.0, 49.0, 49.0, 65.0, 65.0, 45.0],\n",
       " [2.0, 'Ivysaur', 'GrassPoison', 405.0, 60.0, 62.0, 63.0, 80.0, 80.0, 60.0]]"
      ]
     },
     "execution_count": 204,
     "metadata": {},
     "output_type": "execute_result"
    }
   ],
   "source": [
    "new_pd[:3]"
   ]
  },
  {
   "cell_type": "markdown",
   "metadata": {},
   "source": [
    "## 8. Changing Types\n",
    "\n",
    "---\n",
    "\n",
    "### A) Convert your data into a dictionary.\n",
    "\n",
    "Your `dict` should...\n",
    "* have `keys` of the new `pokedex` as the `PokedexNumber`\n",
    "* have `values` containing data for each pokemon in a dictionary form, just like our `pokedex` from before\n",
    "  * Keep in mind, the `keys` here are a little bit different than the original `pokedex`.\n",
    "  * Be careful of the header, you do not want to include that as a pokemon.\n",
    "* **WARNING:** Don't display your entire `pokedex` when turning this in! Viewing that many entries will clog up your notebook and make it difficult to read. If youd like to visualize your `pokedex`, index with a few of its `keys`.\n",
    "\n",
    "Your `new_pd_dict` should be organized like...\n",
    "\n",
    "```python\n",
    "{1.0: {'Attack': 49.0,\n",
    "  'Defense': 49.0,\n",
    "  'HP': 45.0,\n",
    "  'Name': 'Bulbasaur',\n",
    "  'PokedexNumber': 1.0,\n",
    "  'SpecialAttack': 65.0,\n",
    "  'SpecialDefense': 65.0,\n",
    "  'Speed': 45.0,\n",
    "  'Total': 318.0,\n",
    "  'Type': 'GrassPoison'},\n",
    " 2.0: {'Attack': 62.0,\n",
    "  'Defense': 63.0,\n",
    "  'HP': 60.0,\n",
    "  'Name': 'Ivysaur',\n",
    "```"
   ]
  },
  {
   "cell_type": "code",
   "execution_count": 181,
   "metadata": {},
   "outputs": [
    {
     "data": {
      "text/plain": [
       "['PokedexNumber',\n",
       " 'Name',\n",
       " 'Type',\n",
       " 'Total',\n",
       " 'HP',\n",
       " 'Attack',\n",
       " 'Defense',\n",
       " 'SpecialAttack',\n",
       " 'SpecialDefense',\n",
       " 'Speed']"
      ]
     },
     "execution_count": 181,
     "metadata": {},
     "output_type": "execute_result"
    }
   ],
   "source": [
    "# Your code here\n",
    "\n",
    "new_pd[0]"
   ]
  },
  {
   "cell_type": "code",
   "execution_count": 184,
   "metadata": {},
   "outputs": [],
   "source": [
    "#using the zip function to merge 2 lists \n",
    "test = zip(new_pd[0],new_pd[2])"
   ]
  },
  {
   "cell_type": "code",
   "execution_count": 185,
   "metadata": {},
   "outputs": [
    {
     "data": {
      "text/plain": [
       "{'PokedexNumber': 2.0,\n",
       " 'Name': 'Ivysaur',\n",
       " 'Type': 'GrassPoison',\n",
       " 'Total': 405.0,\n",
       " 'HP': 60.0,\n",
       " 'Attack': 62.0,\n",
       " 'Defense': 63.0,\n",
       " 'SpecialAttack': 80.0,\n",
       " 'SpecialDefense': 80.0,\n",
       " 'Speed': 60.0}"
      ]
     },
     "execution_count": 185,
     "metadata": {},
     "output_type": "execute_result"
    }
   ],
   "source": [
    "dict(test)"
   ]
  },
  {
   "cell_type": "code",
   "execution_count": 205,
   "metadata": {},
   "outputs": [],
   "source": [
    "#separate the pokestats labels from new_pd as a separate list \n",
    "pokestats_labels = new_pd[0] \n"
   ]
  },
  {
   "cell_type": "code",
   "execution_count": 206,
   "metadata": {},
   "outputs": [
    {
     "data": {
      "text/plain": [
       "['PokedexNumber',\n",
       " 'Name',\n",
       " 'Type',\n",
       " 'Total',\n",
       " 'HP',\n",
       " 'Attack',\n",
       " 'Defense',\n",
       " 'SpecialAttack',\n",
       " 'SpecialDefense',\n",
       " 'Speed']"
      ]
     },
     "execution_count": 206,
     "metadata": {},
     "output_type": "execute_result"
    }
   ],
   "source": [
    "pokestats_labels"
   ]
  },
  {
   "cell_type": "code",
   "execution_count": 207,
   "metadata": {},
   "outputs": [],
   "source": [
    "#remove the pokestats labels from the rest of the list \n",
    "new_pd.remove(new_pd[0])"
   ]
  },
  {
   "cell_type": "code",
   "execution_count": 219,
   "metadata": {},
   "outputs": [],
   "source": [
    "#iterating through the poke list to zip each list to the pokestat labels \n",
    "a = []\n",
    "for i in new_pd:\n",
    "    a.append(dict(zip(pokestats_labels,i)))\n",
    "new_pd = a\n",
    "#what we now have is a list of indiv pokemon dictionaries \n"
   ]
  },
  {
   "cell_type": "code",
   "execution_count": 222,
   "metadata": {},
   "outputs": [
    {
     "data": {
      "text/plain": [
       "{'PokedexNumber': 1.0,\n",
       " 'Name': 'Bulbasaur',\n",
       " 'Type': 'GrassPoison',\n",
       " 'Total': 318.0,\n",
       " 'HP': 45.0,\n",
       " 'Attack': 49.0,\n",
       " 'Defense': 49.0,\n",
       " 'SpecialAttack': 65.0,\n",
       " 'SpecialDefense': 65.0,\n",
       " 'Speed': 45.0}"
      ]
     },
     "execution_count": 222,
     "metadata": {},
     "output_type": "execute_result"
    }
   ],
   "source": [
    "new_pd[0]"
   ]
  },
  {
   "cell_type": "code",
   "execution_count": 224,
   "metadata": {},
   "outputs": [
    {
     "data": {
      "text/plain": [
       "800"
      ]
     },
     "execution_count": 224,
     "metadata": {},
     "output_type": "execute_result"
    }
   ],
   "source": [
    "#going to count the number of pokemons in the entire new_pd (pokedex)\n",
    "#create a list using range() function with the same number of numbers (assumption is the pokeIDs are in ascending order)\n",
    "#zip and map the 2 lists using the same method above \n",
    "#a safer method would probably be to iterate through each dictionary and extract the exact pokedexnumber \n",
    "\n",
    "ct=0\n",
    "for i in new_pd:\n",
    "    ct += 1\n",
    "ct \n",
    "#there are 800 pokemons in the new_pd list "
   ]
  },
  {
   "cell_type": "code",
   "execution_count": 274,
   "metadata": {},
   "outputs": [],
   "source": [
    "a = list(range(1,801))\n",
    "\n",
    "#populating a new dictionary by assigning keys as pokeIDs to values as pokestats dictionaries \n",
    "dict = {}\n",
    "\n",
    "for i in a:\n",
    "    dict[i] = new_pd[i-1]\n",
    "\n",
    "new_pd_dict = dict "
   ]
  },
  {
   "cell_type": "code",
   "execution_count": 255,
   "metadata": {},
   "outputs": [],
   "source": [
    "test = new_pd[0:3]"
   ]
  },
  {
   "cell_type": "code",
   "execution_count": 267,
   "metadata": {},
   "outputs": [],
   "source": [
    "b = [1,2,3]\n",
    "\n",
    "dict = {}\n",
    "\n",
    "for i in b:\n",
    "    dict[i] = test[i-1]\n"
   ]
  },
  {
   "cell_type": "code",
   "execution_count": 277,
   "metadata": {},
   "outputs": [
    {
     "data": {
      "text/plain": [
       "{'PokedexNumber': 7.0,\n",
       " 'Name': 'Squirtle',\n",
       " 'Type': 'Water',\n",
       " 'Total': 314.0,\n",
       " 'HP': 44.0,\n",
       " 'Attack': 48.0,\n",
       " 'Defense': 65.0,\n",
       " 'SpecialAttack': 50.0,\n",
       " 'SpecialDefense': 64.0,\n",
       " 'Speed': 43.0}"
      ]
     },
     "execution_count": 277,
     "metadata": {},
     "output_type": "execute_result"
    }
   ],
   "source": [
    "new_pd_dict[10]"
   ]
  },
  {
   "cell_type": "code",
   "execution_count": 180,
   "metadata": {},
   "outputs": [
    {
     "data": {
      "text/plain": [
       "[2.0, 'Ivysaur', 'GrassPoison', 405.0, 60.0, 62.0, 63.0, 80.0, 80.0, 60.0]"
      ]
     },
     "execution_count": 180,
     "metadata": {},
     "output_type": "execute_result"
    }
   ],
   "source": [
    "new_pd[2]\n",
    "\n",
    "#find out how to map one list as keys to another list as corresponding values \n",
    "\n"
   ]
  },
  {
   "cell_type": "markdown",
   "metadata": {},
   "source": [
    "Your new pokedex is oriented by index, meaning that each entry is a row value (the `PokedexNumber` we set at the key would become the index for the row, all the keys for a given Pokemon would become the column headers, and their values would be the row values for that Pokemon). If you've set this up correctly (including naming your dict **`new_pd_dict`**), the following code should display the top 10 lines of your Pokedex formatted in a Pandas DataFrame."
   ]
  },
  {
   "cell_type": "code",
   "execution_count": 286,
   "metadata": {},
   "outputs": [
    {
     "data": {
      "text/html": [
       "<div>\n",
       "<style scoped>\n",
       "    .dataframe tbody tr th:only-of-type {\n",
       "        vertical-align: middle;\n",
       "    }\n",
       "\n",
       "    .dataframe tbody tr th {\n",
       "        vertical-align: top;\n",
       "    }\n",
       "\n",
       "    .dataframe thead th {\n",
       "        text-align: right;\n",
       "    }\n",
       "</style>\n",
       "<table border=\"1\" class=\"dataframe\">\n",
       "  <thead>\n",
       "    <tr style=\"text-align: right;\">\n",
       "      <th></th>\n",
       "      <th>PokedexNumber</th>\n",
       "      <th>Name</th>\n",
       "      <th>Type</th>\n",
       "      <th>Total</th>\n",
       "      <th>HP</th>\n",
       "      <th>Attack</th>\n",
       "      <th>Defense</th>\n",
       "      <th>SpecialAttack</th>\n",
       "      <th>SpecialDefense</th>\n",
       "      <th>Speed</th>\n",
       "    </tr>\n",
       "  </thead>\n",
       "  <tbody>\n",
       "    <tr>\n",
       "      <td>1</td>\n",
       "      <td>1</td>\n",
       "      <td>Bulbasaur</td>\n",
       "      <td>GrassPoison</td>\n",
       "      <td>318</td>\n",
       "      <td>45</td>\n",
       "      <td>49</td>\n",
       "      <td>49</td>\n",
       "      <td>65</td>\n",
       "      <td>65</td>\n",
       "      <td>45</td>\n",
       "    </tr>\n",
       "    <tr>\n",
       "      <td>2</td>\n",
       "      <td>2</td>\n",
       "      <td>Ivysaur</td>\n",
       "      <td>GrassPoison</td>\n",
       "      <td>405</td>\n",
       "      <td>60</td>\n",
       "      <td>62</td>\n",
       "      <td>63</td>\n",
       "      <td>80</td>\n",
       "      <td>80</td>\n",
       "      <td>60</td>\n",
       "    </tr>\n",
       "    <tr>\n",
       "      <td>3</td>\n",
       "      <td>3</td>\n",
       "      <td>Venusaur</td>\n",
       "      <td>GrassPoison</td>\n",
       "      <td>525</td>\n",
       "      <td>80</td>\n",
       "      <td>82</td>\n",
       "      <td>83</td>\n",
       "      <td>100</td>\n",
       "      <td>100</td>\n",
       "      <td>80</td>\n",
       "    </tr>\n",
       "    <tr>\n",
       "      <td>4</td>\n",
       "      <td>3</td>\n",
       "      <td>VenusaurMega Venusaur</td>\n",
       "      <td>GrassPoison</td>\n",
       "      <td>625</td>\n",
       "      <td>80</td>\n",
       "      <td>100</td>\n",
       "      <td>123</td>\n",
       "      <td>122</td>\n",
       "      <td>120</td>\n",
       "      <td>80</td>\n",
       "    </tr>\n",
       "    <tr>\n",
       "      <td>5</td>\n",
       "      <td>4</td>\n",
       "      <td>Charmander</td>\n",
       "      <td>Fire</td>\n",
       "      <td>309</td>\n",
       "      <td>39</td>\n",
       "      <td>52</td>\n",
       "      <td>43</td>\n",
       "      <td>60</td>\n",
       "      <td>50</td>\n",
       "      <td>65</td>\n",
       "    </tr>\n",
       "    <tr>\n",
       "      <td>6</td>\n",
       "      <td>5</td>\n",
       "      <td>Charmeleon</td>\n",
       "      <td>Fire</td>\n",
       "      <td>405</td>\n",
       "      <td>58</td>\n",
       "      <td>64</td>\n",
       "      <td>58</td>\n",
       "      <td>80</td>\n",
       "      <td>65</td>\n",
       "      <td>80</td>\n",
       "    </tr>\n",
       "    <tr>\n",
       "      <td>7</td>\n",
       "      <td>6</td>\n",
       "      <td>Charizard</td>\n",
       "      <td>FireFlying</td>\n",
       "      <td>534</td>\n",
       "      <td>78</td>\n",
       "      <td>84</td>\n",
       "      <td>78</td>\n",
       "      <td>109</td>\n",
       "      <td>85</td>\n",
       "      <td>100</td>\n",
       "    </tr>\n",
       "    <tr>\n",
       "      <td>8</td>\n",
       "      <td>6</td>\n",
       "      <td>CharizardMega Charizard X</td>\n",
       "      <td>FireDragon</td>\n",
       "      <td>634</td>\n",
       "      <td>78</td>\n",
       "      <td>130</td>\n",
       "      <td>111</td>\n",
       "      <td>130</td>\n",
       "      <td>85</td>\n",
       "      <td>100</td>\n",
       "    </tr>\n",
       "    <tr>\n",
       "      <td>9</td>\n",
       "      <td>6</td>\n",
       "      <td>CharizardMega Charizard Y</td>\n",
       "      <td>FireFlying</td>\n",
       "      <td>634</td>\n",
       "      <td>78</td>\n",
       "      <td>104</td>\n",
       "      <td>78</td>\n",
       "      <td>159</td>\n",
       "      <td>115</td>\n",
       "      <td>100</td>\n",
       "    </tr>\n",
       "    <tr>\n",
       "      <td>10</td>\n",
       "      <td>7</td>\n",
       "      <td>Squirtle</td>\n",
       "      <td>Water</td>\n",
       "      <td>314</td>\n",
       "      <td>44</td>\n",
       "      <td>48</td>\n",
       "      <td>65</td>\n",
       "      <td>50</td>\n",
       "      <td>64</td>\n",
       "      <td>43</td>\n",
       "    </tr>\n",
       "  </tbody>\n",
       "</table>\n",
       "</div>"
      ],
      "text/plain": [
       "   PokedexNumber                       Name         Type Total  HP Attack  \\\n",
       "1              1                  Bulbasaur  GrassPoison   318  45     49   \n",
       "2              2                    Ivysaur  GrassPoison   405  60     62   \n",
       "3              3                   Venusaur  GrassPoison   525  80     82   \n",
       "4              3      VenusaurMega Venusaur  GrassPoison   625  80    100   \n",
       "5              4                 Charmander         Fire   309  39     52   \n",
       "6              5                 Charmeleon         Fire   405  58     64   \n",
       "7              6                  Charizard   FireFlying   534  78     84   \n",
       "8              6  CharizardMega Charizard X   FireDragon   634  78    130   \n",
       "9              6  CharizardMega Charizard Y   FireFlying   634  78    104   \n",
       "10             7                   Squirtle        Water   314  44     48   \n",
       "\n",
       "   Defense SpecialAttack SpecialDefense Speed  \n",
       "1       49            65             65    45  \n",
       "2       63            80             80    60  \n",
       "3       83           100            100    80  \n",
       "4      123           122            120    80  \n",
       "5       43            60             50    65  \n",
       "6       58            80             65    80  \n",
       "7       78           109             85   100  \n",
       "8      111           130             85   100  \n",
       "9       78           159            115   100  \n",
       "10      65            50             64    43  "
      ]
     },
     "execution_count": 286,
     "metadata": {},
     "output_type": "execute_result"
    }
   ],
   "source": [
    "import pandas as pd\n",
    "pd.DataFrame(new_pd_dict).T.head(10)"
   ]
  },
  {
   "cell_type": "code",
   "execution_count": null,
   "metadata": {},
   "outputs": [],
   "source": []
  },
  {
   "cell_type": "markdown",
   "metadata": {},
   "source": [
    "### (OPTIONAL) B) Orient your `new_pd_dict` by columns.\n",
    "\n",
    "Your goal in this exercise is to orient the pokedex dict by columns, meaning:\n",
    "\n",
    "* The keys of the dictionary are the column names\n",
    "* The values of the dictionary are a **column vector** (this can be a list or a tuple) of that feature.\n",
    "* **BONUS:** Do this with list and/or dictionary comprehensions only\n",
    "\n",
    "You may find it's easier to work from your `new_pd` list of lists rather than your `new_pd_dict`."
   ]
  },
  {
   "cell_type": "code",
   "execution_count": null,
   "metadata": {},
   "outputs": [],
   "source": [
    "# Your code here"
   ]
  },
  {
   "cell_type": "markdown",
   "metadata": {},
   "source": [
    "You can pass this data through to a pandas DataFrame as well, using the example code below:\n",
    "\n",
    "```pd.DataFrame(your_dict_name).head(10)```"
   ]
  },
  {
   "cell_type": "markdown",
   "metadata": {},
   "source": [
    "## (OPTIONAL) 9. Write a function to filter your pokedex!\n",
    "---\n",
    "\n",
    "Your goal in this exercise is to search your pokedex based on your own defined criteria! Build a function that...\n",
    "\n",
    "* Takes arguments of: \n",
    "  * a pokedex dict (can be either the row or column oriented dict, pick the one of your choice!)\n",
    "  * a `filter_options` dict (described below)\n",
    "* For parameters in your `filter_options` dict, your function should return:\n",
    "  * pokemon that are >= (greater than or equal to) the value you passed in your `filter_options` for that field for continuous values\n",
    "  * pokemon of that name or type for string values (equal)\n",
    "* Return a list of the individual pokemon dictionaries that meet your search criteia!\n",
    "\n",
    "Example:\n",
    "\n",
    "```python\n",
    "\n",
    "# Only filter based on parameters passed\n",
    "filter_options = {\n",
    "    'Attack':   25,\n",
    "    'Defense':  30,\n",
    "    'Type':     'Electric'\n",
    "}\n",
    "\n",
    "# Return records with attack >= 24, defense >= 30, and type == \"Electric\"\n",
    "# Also anticipate that other paramters can also be passed such as \"SpecialAttack\", \"Speed\", etc.\n",
    "filtered_pokedex(pokedex_data, filter_options)\n",
    "\n",
    "# Example output:\n",
    "[{'Attack': 30.0,\n",
    "  'Defense': 50.0,\n",
    "  'HP': 40.0,\n",
    "  'Name': 'Voltorb',\n",
    "  'SpecialAttack': 55.0,\n",
    "  'SpecialDefense': 55.0,\n",
    "  'Speed': 100.0,\n",
    "  'Total': 330.0,\n",
    "  'Type': 'Electric'},\n",
    "  {'Attack': 30.0,\n",
    "  'Defense': 33.0,\n",
    "  'HP': 32.0,\n",
    "  'Name': 'Pikachu',\n",
    "  'SpecialAttack': 55.0,\n",
    "  'SpecialDefense': 55.0,\n",
    "  'Speed': 100.0,\n",
    "  'Total': 330.0,\n",
    "  'Type': 'Electric'},\n",
    "  ... etc\n",
    "  ]\n",
    "\n",
    "```\n",
    "\n"
   ]
  },
  {
   "cell_type": "code",
   "execution_count": null,
   "metadata": {},
   "outputs": [],
   "source": [
    "# Your code here"
   ]
  }
 ],
 "metadata": {
  "anaconda-cloud": {},
  "kernelspec": {
   "display_name": "Python 3",
   "language": "python",
   "name": "python3"
  },
  "language_info": {
   "codemirror_mode": {
    "name": "ipython",
    "version": 3
   },
   "file_extension": ".py",
   "mimetype": "text/x-python",
   "name": "python",
   "nbconvert_exporter": "python",
   "pygments_lexer": "ipython3",
   "version": "3.7.4"
  }
 },
 "nbformat": 4,
 "nbformat_minor": 2
}
